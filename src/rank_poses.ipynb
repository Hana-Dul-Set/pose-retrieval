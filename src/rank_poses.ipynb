{
 "cells": [
  {
   "cell_type": "code",
   "execution_count": 21,
   "metadata": {},
   "outputs": [],
   "source": [
    "import pandas as pd\n",
    "\n",
    "bg_cluster_result_csv_path = '../../datas/clusters/background_50.csv'\n",
    "pose_cluster_result_csv_path = '../../datas/clusters/pose_cluster_kmeans_result_07181945.csv'\n",
    "\n",
    "output_dir = '../../datas/clusters/'\n",
    "\n",
    "bg_cluster_data = pd.read_csv(bg_cluster_result_csv_path)\n",
    "pose_cluster_data = pd.read_csv(pose_cluster_result_csv_path)"
   ]
  },
  {
   "cell_type": "code",
   "execution_count": 5,
   "metadata": {},
   "outputs": [],
   "source": [
    "cluster_data = pd.merge(bg_cluster_data, pose_cluster_data, how = 'inner', on = 'name')"
   ]
  },
  {
   "cell_type": "code",
   "execution_count": 19,
   "metadata": {},
   "outputs": [],
   "source": [
    "pose_appearance = cluster_data.groupby(['label'])['pose_id'].value_counts().reset_index(name='count')\n",
    "counts = pose_appearance.sort_values(by=['label', 'count'], ascending=[True, False])\n",
    "listed = counts.groupby('label')['pose_id'].agg(list).reset_index(name = 'pose_ids')"
   ]
  },
  {
   "cell_type": "code",
   "execution_count": 18,
   "metadata": {},
   "outputs": [],
   "source": [
    "pose_appearance.to_csv(output_dir + 'pose_appearance.csv', header = ['bg_label', 'pose_id', 'count'], index = False)\n",
    "listed.to_csv(output_dir + 'pose_ranks.csv', header = ['bg_label', 'pose_ids'], index = False)"
   ]
  }
 ],
 "metadata": {
  "kernelspec": {
   "display_name": "Python 3",
   "language": "python",
   "name": "python3"
  },
  "language_info": {
   "codemirror_mode": {
    "name": "ipython",
    "version": 3
   },
   "file_extension": ".py",
   "mimetype": "text/x-python",
   "name": "python",
   "nbconvert_exporter": "python",
   "pygments_lexer": "ipython3",
   "version": "3.9.12"
  },
  "orig_nbformat": 4
 },
 "nbformat": 4,
 "nbformat_minor": 2
}
